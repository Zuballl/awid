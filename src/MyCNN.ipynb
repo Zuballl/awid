{
 "cells": [
  {
   "cell_type": "code",
   "execution_count": null,
   "id": "5a9a29c7-36a6-4a53-a90e-f8e2168cea48",
   "metadata": {},
   "outputs": [],
   "source": [
    "exit()"
   ]
  },
  {
   "cell_type": "code",
   "execution_count": 1,
   "id": "5c361db5-12da-4c6f-988d-6e270e9a460c",
   "metadata": {},
   "outputs": [
    {
     "ename": "LoadError",
     "evalue": "The following package names could not be resolved:\n * MyProject (not found in project, manifest or registry)\n\u001b[36m   Suggestions:\u001b[39m Reproject Ho\u001b[0m\u001b[1mm\u001b[22malgProject",
     "output_type": "error",
     "traceback": [
      "The following package names could not be resolved:\n * MyProject (not found in project, manifest or registry)\n\u001b[36m   Suggestions:\u001b[39m Reproject Ho\u001b[0m\u001b[1mm\u001b[22malgProject",
      "",
      "Stacktrace:",
      " [1] pkgerror(msg::String)",
      "   @ Pkg.Types /Applications/Julia-1.11.app/Contents/Resources/julia/share/julia/stdlib/v1.11/Pkg/src/Types.jl:68",
      " [2] ensure_resolved(ctx::Pkg.Types.Context, manifest::Pkg.Types.Manifest, pkgs::Vector{Pkg.Types.PackageSpec}; registry::Bool)",
      "   @ Pkg.Types /Applications/Julia-1.11.app/Contents/Resources/julia/share/julia/stdlib/v1.11/Pkg/src/Types.jl:1040",
      " [3] ensure_resolved",
      "   @ /Applications/Julia-1.11.app/Contents/Resources/julia/share/julia/stdlib/v1.11/Pkg/src/Types.jl:991 [inlined]",
      " [4] add(ctx::Pkg.Types.Context, pkgs::Vector{Pkg.Types.PackageSpec}; preserve::Pkg.Types.PreserveLevel, platform::Base.BinaryPlatforms.Platform, target::Symbol, allow_autoprecomp::Bool, kwargs::@Kwargs{io::IOContext{IO}})",
      "   @ Pkg.API /Applications/Julia-1.11.app/Contents/Resources/julia/share/julia/stdlib/v1.11/Pkg/src/API.jl:300",
      " [5] add(pkgs::Vector{Pkg.Types.PackageSpec}; io::IOContext{IO}, kwargs::@Kwargs{})",
      "   @ Pkg.API /Applications/Julia-1.11.app/Contents/Resources/julia/share/julia/stdlib/v1.11/Pkg/src/API.jl:159",
      " [6] add(pkgs::Vector{Pkg.Types.PackageSpec})",
      "   @ Pkg.API /Applications/Julia-1.11.app/Contents/Resources/julia/share/julia/stdlib/v1.11/Pkg/src/API.jl:148",
      " [7] add",
      "   @ /Applications/Julia-1.11.app/Contents/Resources/julia/share/julia/stdlib/v1.11/Pkg/src/API.jl:147 [inlined]",
      " [8] add(pkg::String)",
      "   @ Pkg.API /Applications/Julia-1.11.app/Contents/Resources/julia/share/julia/stdlib/v1.11/Pkg/src/API.jl:146",
      " [9] top-level scope",
      "   @ In[1]:2"
     ]
    }
   ],
   "source": [
    "import Pkg; \n",
    "Pkg.add(\"MyProject\")"
   ]
  },
  {
   "cell_type": "code",
   "execution_count": 1,
   "id": "304935a5-84df-428a-a503-13ad5831c987",
   "metadata": {},
   "outputs": [
    {
     "name": "stderr",
     "output_type": "stream",
     "text": [
      "\u001b[32m\u001b[1m  Activating\u001b[22m\u001b[39m new project at `~/Documents/My/WWA/mgr/nauka/awid/MyProject/src`\n"
     ]
    }
   ],
   "source": [
    "# Cell 1: Activate your project\n",
    "using Pkg\n",
    "Pkg.activate(\".\")"
   ]
  },
  {
   "cell_type": "code",
   "execution_count": 2,
   "id": "07ae7eef-b1bf-4783-9d9b-9b3cd10b0aec",
   "metadata": {},
   "outputs": [],
   "source": [
    "# Cell 2: Import your modules\n",
    "using MyProject\n",
    "using MyProject.MyCNN\n",
    "using MyProject.MyAD\n",
    "using Random\n",
    "using JLD2\n",
    "\n",
    "X_train = load(\"CNN/data/imdb_dataset_prepared.jld2\", \"X_train\")\n",
    "y_train = load(\"CNN/data/imdb_dataset_prepared.jld2\", \"y_train\")\n",
    "X_test = load(\"CNN/data/imdb_dataset_prepared.jld2\", \"X_test\")\n",
    "y_test = load(\"CNN/data/imdb_dataset_prepared.jld2\", \"y_test\")\n",
    "embeddings = load(\"CNN/data/imdb_dataset_prepared.jld2\", \"embeddings\")\n",
    "vocab = load(\"CNN/data/imdb_dataset_prepared.jld2\", \"vocab\")\n",
    "\n",
    "embedding_dim = size(embeddings, 1)"
   ]
  },
  {
   "cell_type": "code",
   "execution_count": 3,
   "id": "a6324b64-33f3-4f08-883d-b17e7e10037a",
   "metadata": {},
   "outputs": [
    {
     "data": {
      "text/plain": [
       "8-element Vector{Int64}:\n",
       "  7\n",
       "  1\n",
       "  4\n",
       "  9\n",
       "  4\n",
       "  9\n",
       " 10\n",
       "  9"
      ]
     },
     "execution_count": 3,
     "metadata": {},
     "output_type": "execute_result"
    }
   ],
   "source": [
    "# Example: adjust to your own API\n",
    "embedding_layer = Embedding(length(vocab), embedding_dim)\n",
    "embedding_layer.weights .= embeddings  # if your Embedding supports this\n",
    "\n",
    "model = NeuralNetwork([\n",
    "    embedding_layer,\n",
    "    Conv2D((3, 1), embedding_dim, 8),\n",
    "    MaxPool2D((8, 1)),\n",
    "    Flatten(),\n",
    "    Dense(128, 1, sigmoid)  # adjust input/output sizes as needed\n",
    "])"
   ]
  },
  {
   "cell_type": "code",
   "execution_count": 4,
   "id": "fc27f4c9-4995-4da9-b89f-5ffe998eab29",
   "metadata": {},
   "outputs": [
    {
     "ename": "LoadError",
     "evalue": "MethodError: \u001b[0mCannot `convert` an object of type \n\u001b[0m  \u001b[92mFlatten\u001b[39m\u001b[0m to an object of type \n\u001b[0m  \u001b[91mUnion{MaxPool2D, Conv2D, Dense}\u001b[39m\nThe function `convert` exists, but no method is defined for this combination of argument types.\n\n\u001b[0mClosest candidates are:\n\u001b[0m  convert(::Type{T}, \u001b[91m::T\u001b[39m) where T\n\u001b[0m\u001b[90m   @\u001b[39m \u001b[90mBase\u001b[39m \u001b[90m\u001b[4mBase.jl:126\u001b[24m\u001b[39m\n",
     "output_type": "error",
     "traceback": [
      "MethodError: \u001b[0mCannot `convert` an object of type \n\u001b[0m  \u001b[92mFlatten\u001b[39m\u001b[0m to an object of type \n\u001b[0m  \u001b[91mUnion{MaxPool2D, Conv2D, Dense}\u001b[39m\nThe function `convert` exists, but no method is defined for this combination of argument types.\n\n\u001b[0mClosest candidates are:\n\u001b[0m  convert(::Type{T}, \u001b[91m::T\u001b[39m) where T\n\u001b[0m\u001b[90m   @\u001b[39m \u001b[90mBase\u001b[39m \u001b[90m\u001b[4mBase.jl:126\u001b[24m\u001b[39m\n",
      "",
      "Stacktrace:",
      "  [1] setindex!(A::Memory{Union{MaxPool2D, Conv2D, Dense}}, x::Flatten, i1::Int64)",
      "    @ Base ./genericmemory.jl:243",
      "  [2] unsafe_copyto!(dest::Memory{Union{MaxPool2D, Conv2D, Dense}}, doffs::Int64, src::Memory{Any}, soffs::Int64, n::Int64)",
      "    @ Base ./genericmemory.jl:153",
      "  [3] unsafe_copyto!",
      "    @ ./genericmemory.jl:133 [inlined]",
      "  [4] _copyto_impl!",
      "    @ ./array.jl:308 [inlined]",
      "  [5] copyto!",
      "    @ ./array.jl:294 [inlined]",
      "  [6] copyto!",
      "    @ ./array.jl:319 [inlined]",
      "  [7] copyto_axcheck!",
      "    @ ./abstractarray.jl:1167 [inlined]",
      "  [8] Array",
      "    @ ./array.jl:626 [inlined]",
      "  [9] NeuralNetwork(layers::Vector{Any})",
      "    @ MyProject.MyCNN ~/Documents/My/WWA/mgr/nauka/awid/MyProject/src/MyCNN/Layers.jl:120",
      " [10] top-level scope",
      "    @ In[4]:10"
     ]
    }
   ],
   "source": [
    "# Cell 4: Build your model\n",
    "layers = [\n",
    "    Conv2D((3, 3), in_channels, 8),\n",
    "    MaxPool2D((2, 2)),\n",
    "    Conv2D((3, 3), 8, 16),\n",
    "    MaxPool2D((2, 2)),\n",
    "    Flatten(),\n",
    "    Dense(16 * 6 * 6, num_classes, relu)\n",
    "]\n",
    "model = NeuralNetwork(layers)\n",
    "\n",
    "# Cell 5: Define loss and accuracy\n",
    "function my_loss(y_pred, y_true)\n",
    "    # Example: mean squared error\n",
    "    return mse_loss(y_pred, y_true)\n",
    "end\n",
    "\n",
    "function my_accuracy(y_pred, y_true)\n",
    "    y_pred_labels = argmax(y_pred.output, dims=1)\n",
    "    return mean(y_pred_labels .== y_true)\n",
    "end\n"
   ]
  },
  {
   "cell_type": "code",
   "execution_count": null,
   "id": "544db7e5-30cc-44bf-a34b-a8129f3f61da",
   "metadata": {},
   "outputs": [],
   "source": [
    "# Cell 6: Training loop (dummy, for demonstration)\n",
    "epochs = 3\n",
    "for epoch in 1:epochs\n",
    "    y_pred = forward(model, CNNVariable(X_train))\n",
    "    loss = my_loss(y_pred, y_train)\n",
    "    acc = my_accuracy(y_pred, y_train)\n",
    "    println(\"Epoch $epoch: loss = $loss, accuracy = $acc\")\n",
    "end"
   ]
  }
 ],
 "metadata": {
  "kernelspec": {
   "display_name": "Julia 1.11.5",
   "language": "julia",
   "name": "julia-1.11"
  },
  "language_info": {
   "file_extension": ".jl",
   "mimetype": "application/julia",
   "name": "julia",
   "version": "1.11.5"
  }
 },
 "nbformat": 4,
 "nbformat_minor": 5
}
