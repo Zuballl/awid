{
 "cells": [
  {
   "cell_type": "code",
   "execution_count": 5,
   "id": "00e8b902-373b-411e-9b08-f61ce7a870da",
   "metadata": {},
   "outputs": [
    {
     "data": {
      "text/plain": [
       "\"/Users/janzubalewicz/Documents/My/WWA/mgr/nauka/awid/MyProject\""
      ]
     },
     "execution_count": 5,
     "metadata": {},
     "output_type": "execute_result"
    }
   ],
   "source": [
    "pwd()\n"
   ]
  },
  {
   "cell_type": "code",
   "execution_count": null,
   "id": "b699f5a1-2c3c-4cae-b2a7-001d16213586",
   "metadata": {},
   "outputs": [],
   "source": [
    "exit()\n"
   ]
  },
  {
   "cell_type": "code",
   "execution_count": 1,
   "id": "f6e610b1-7b36-47cf-a8b6-2b80859b1186",
   "metadata": {},
   "outputs": [
    {
     "name": "stderr",
     "output_type": "stream",
     "text": [
      "\u001b[32m\u001b[1m  Activating\u001b[22m\u001b[39m project at `~/Documents/My/WWA/mgr/nauka/awid/MyProject`\n"
     ]
    }
   ],
   "source": [
    "cd(\"/Users/janzubalewicz/Documents/My/WWA/mgr/nauka/awid/MyProject\")\n",
    "using Pkg\n",
    "Pkg.activate(\".\")"
   ]
  },
  {
   "cell_type": "code",
   "execution_count": 2,
   "id": "e75978cc-1b63-4d92-91fc-7f1ec97e0a60",
   "metadata": {},
   "outputs": [
    {
     "name": "stderr",
     "output_type": "stream",
     "text": [
      "\u001b[36m\u001b[1m[ \u001b[22m\u001b[39m\u001b[36m\u001b[1mInfo: \u001b[22m\u001b[39mPrecompiling MyProject [be156bc0-6739-40ee-bb06-19190d46f194] (cache misses: include_dependency fsize change (2), mismatched flags (2))\n",
      "WARNING: could not import MyAD.tensor_ops into MyCNN\n",
      "WARNING: could not import MyAD.engine into MyCNN\n",
      "WARNING: could not import MyAD.operators into MyCNN\n"
     ]
    },
    {
     "name": "stdout",
     "output_type": "stream",
     "text": [
      "X_train shape: (130, 40000)\n",
      "y_train shape: (1, 40000)\n",
      "X_test shape: (130, 10000)\n",
      "y_test shape: (1, 10000)\n",
      "Embedding dim: (50, 12849)\n",
      "Vocab size: 12849\n"
     ]
    }
   ],
   "source": [
    "using MyProject\n",
    "using MyProject.MyCNN\n",
    "mycnn = MyProject.MyCNN\n",
    "using MyProject.MyAD\n",
    "myad = MyProject.MyAD\n",
    "using JLD2\n",
    "using Random\n",
    "\n",
    "\n",
    "X_train = load(\"data/imdb_dataset_prepared.jld2\", \"X_train\")\n",
    "y_train = load(\"data/imdb_dataset_prepared.jld2\", \"y_train\")\n",
    "X_test = load(\"data/imdb_dataset_prepared.jld2\", \"X_test\")\n",
    "y_test = load(\"data/imdb_dataset_prepared.jld2\", \"y_test\")\n",
    "embeddings = load(\"data/imdb_dataset_prepared.jld2\", \"embeddings\")\n",
    "vocab = load(\"data/imdb_dataset_prepared.jld2\", \"vocab\")\n",
    "\n",
    "embedding_dim, vocab_size = size(embeddings)\n",
    "\n",
    "println(\"X_train shape: \", size(X_train))\n",
    "println(\"y_train shape: \", size(y_train))\n",
    "println(\"X_test shape: \", size(X_test))\n",
    "println(\"y_test shape: \", size(y_test))\n",
    "println(\"Embedding dim: \", size(embeddings))\n",
    "println(\"Vocab size: \", length(vocab))"
   ]
  },
  {
   "cell_type": "code",
   "execution_count": 3,
   "id": "0ed23e02-591e-4d94-93c7-7bd1f4cdc381",
   "metadata": {},
   "outputs": [
    {
     "data": {
      "text/plain": [
       "2×10000 Matrix{Float32}:\n",
       " 1.0  0.0  0.0  1.0  0.0  0.0  1.0  1.0  …  0.0  0.0  1.0  1.0  1.0  1.0  1.0\n",
       " 0.0  1.0  1.0  0.0  1.0  1.0  0.0  0.0     1.0  1.0  0.0  0.0  0.0  0.0  0.0"
      ]
     },
     "execution_count": 3,
     "metadata": {},
     "output_type": "execute_result"
    }
   ],
   "source": [
    "function to_onehot(y, n_classes)\n",
    "    y_oh = zeros(Float32, n_classes, length(y))\n",
    "    for (i, label) in enumerate(y)\n",
    "        y_oh[label, i] = 1.0\n",
    "    end\n",
    "    return y_oh\n",
    "end\n",
    "\n",
    "n_classes = 2\n",
    "\n",
    "y_train_int = Int.(vec(y_train)) .+ 1\n",
    "y_test_int = Int.(vec(y_test)) .+ 1\n",
    "\n",
    "y_train_oh = to_onehot(y_train_int, n_classes)\n",
    "y_test_oh = to_onehot(y_test_int, n_classes)"
   ]
  },
  {
   "cell_type": "code",
   "execution_count": 4,
   "id": "60468785-598d-4b48-b1d2-21688b193163",
   "metadata": {},
   "outputs": [
    {
     "data": {
      "text/plain": [
       "CNN(Embedding(Float32[0.90951 -0.58014 … 0.014323 0.0; -0.20702 -1.1316 … -0.74624 0.0; … ; -0.60396 0.1722 … -0.079873 0.0; -0.31136 1.2622 … -0.89164 0.0]), Conv2D[Conv2D(Float32[0.16772954 -0.06669945 … 0.034587335 0.030594831; 0.11891296 0.16593625 … -0.0004780615 -0.19930357; 0.06428459 0.10529229 … -0.012297262 -0.07825297;;;; 0.03883656 -0.13476834 … 0.19175966 -0.119388096; -0.08917357 -0.026040507 … -0.018399162 -0.012587911; -0.00570072 0.04816953 … -0.042767406 0.048305232;;;; 0.04464904 0.16295858 … 0.14485067 0.02354971; 0.13588227 0.13434424 … 0.0052043144 -0.032598704; 0.114609264 0.034051444 … 0.06469068 0.060418252;;;; -0.18281847 0.05067956 … 0.14040409 0.09622225; 0.13050775 0.08306196 … -0.20279896 -0.015844224; -0.22552426 0.036942028 … 0.07280967 -0.020347634;;;; -0.13252896 -0.008793123 … 0.11027092 -0.05129517; -0.10245298 -0.20331526 … -0.109872155 -0.14208245; 0.16581386 -0.30127457 … -0.03246832 -0.13449125;;;; 0.23396331 -0.21119258 … -0.03890189 -0.25878218; 0.047255043 0.026326997 … 0.018235384 -0.29440066; 0.024904558 0.08462619 … 0.09628124 0.018755592;;;; 0.1669722 0.065068334 … -0.020926012 0.040613323; 0.0036489344 -0.1235161 … 0.041562412 0.015307344; 0.08938498 0.25869364 … -0.024722723 -0.07905722;;;; 0.12302185 -0.06665119 … -0.18786094 -0.050784588; -0.07111902 -0.036194213 … -0.017587334 -0.09147529; 0.085659705 -0.003922293 … -0.12028887 -0.023351777], Float32[0.0, 0.0, 0.0, 0.0, 0.0, 0.0, 0.0, 0.0], Float32[0.0 0.0 … 0.0 0.0; 0.0 0.0 … 0.0 0.0; 0.0 0.0 … 0.0 0.0;;;; 0.0 0.0 … 0.0 0.0; 0.0 0.0 … 0.0 0.0; 0.0 0.0 … 0.0 0.0;;;; 0.0 0.0 … 0.0 0.0; 0.0 0.0 … 0.0 0.0; 0.0 0.0 … 0.0 0.0;;;; 0.0 0.0 … 0.0 0.0; 0.0 0.0 … 0.0 0.0; 0.0 0.0 … 0.0 0.0;;;; 0.0 0.0 … 0.0 0.0; 0.0 0.0 … 0.0 0.0; 0.0 0.0 … 0.0 0.0;;;; 0.0 0.0 … 0.0 0.0; 0.0 0.0 … 0.0 0.0; 0.0 0.0 … 0.0 0.0;;;; 0.0 0.0 … 0.0 0.0; 0.0 0.0 … 0.0 0.0; 0.0 0.0 … 0.0 0.0;;;; 0.0 0.0 … 0.0 0.0; 0.0 0.0 … 0.0 0.0; 0.0 0.0 … 0.0 0.0], Float32[0.0, 0.0, 0.0, 0.0, 0.0, 0.0, 0.0, 0.0], (1, 1), (0, 0))], Dense(Float32[0.0016801157 -0.0034925633 … 0.0012048037 0.0054917373; -0.0051727905 -0.0010766643 … -0.0002362489 -0.0008836979], Float32[0.0, 0.0], Float32[0.0 0.0 … 0.0 0.0; 0.0 0.0 … 0.0 0.0], Float32[0.0, 0.0], #undef), 40000)"
      ]
     },
     "execution_count": 4,
     "metadata": {},
     "output_type": "execute_result"
    }
   ],
   "source": [
    "embedding_layer = Embedding(embeddings)\n",
    "n_filters = 8\n",
    "filter_sizes = [3]\n",
    "model = CNN(\n",
    "    embedding=embedding_layer,\n",
    "    n_filters=n_filters,\n",
    "    filter_sizes=filter_sizes,\n",
    "    n_classes=n_classes,\n",
    "    seq_len=size(X_train, 2)  # or whatever your actual input length is\n",
    ")"
   ]
  },
  {
   "cell_type": "code",
   "execution_count": 5,
   "id": "b898f381-3959-4d2f-bf30-981e6c17d6ae",
   "metadata": {},
   "outputs": [
    {
     "name": "stderr",
     "output_type": "stream",
     "text": [
      "\u001b[36m\u001b[1m┌ \u001b[22m\u001b[39m\u001b[36m\u001b[1mInfo: \u001b[22m\u001b[39mconv2d input\n",
      "\u001b[36m\u001b[1m│ \u001b[22m\u001b[39m  size_x = (64, 1, 40000, 50)\n",
      "\u001b[36m\u001b[1m└ \u001b[22m\u001b[39m  size_filters = (3, 50, 1, 8)\n",
      "\u001b[36m\u001b[1m┌ \u001b[22m\u001b[39m\u001b[36m\u001b[1mInfo: \u001b[22m\u001b[39mconv2d output reshaped\n",
      "\u001b[36m\u001b[1m└ \u001b[22m\u001b[39m  size_output = (64, 8, 39998, 1)\n",
      "\u001b[36m\u001b[1m┌ \u001b[22m\u001b[39m\u001b[36m\u001b[1mInfo: \u001b[22m\u001b[39mconv2d input\n",
      "\u001b[36m\u001b[1m│ \u001b[22m\u001b[39m  size_x = (64, 1, 40000, 50)\n",
      "\u001b[36m\u001b[1m└ \u001b[22m\u001b[39m  size_filters = (3, 50, 1, 8)\n",
      "\u001b[36m\u001b[1m┌ \u001b[22m\u001b[39m\u001b[36m\u001b[1mInfo: \u001b[22m\u001b[39mconv2d output reshaped\n",
      "\u001b[36m\u001b[1m└ \u001b[22m\u001b[39m  size_output = (64, 8, 39998, 1)\n",
      "\u001b[36m\u001b[1m┌ \u001b[22m\u001b[39m\u001b[36m\u001b[1mInfo: \u001b[22m\u001b[39mconv2d input\n",
      "\u001b[36m\u001b[1m│ \u001b[22m\u001b[39m  size_x = (2, 1, 40000, 50)\n",
      "\u001b[36m\u001b[1m└ \u001b[22m\u001b[39m  size_filters = (3, 50, 1, 8)\n",
      "\u001b[36m\u001b[1m┌ \u001b[22m\u001b[39m\u001b[36m\u001b[1mInfo: \u001b[22m\u001b[39mconv2d output reshaped\n",
      "\u001b[36m\u001b[1m└ \u001b[22m\u001b[39m  size_output = (2, 8, 39998, 1)\n"
     ]
    },
    {
     "name": "stdout",
     "output_type": "stream",
     "text": [
      "Epoch 1: loss = 0.2630158265431722, accuracy = 0.53125\n"
     ]
    },
    {
     "name": "stderr",
     "output_type": "stream",
     "text": [
      "\u001b[36m\u001b[1m┌ \u001b[22m\u001b[39m\u001b[36m\u001b[1mInfo: \u001b[22m\u001b[39mconv2d input\n",
      "\u001b[36m\u001b[1m│ \u001b[22m\u001b[39m  size_x = (64, 1, 40000, 50)\n",
      "\u001b[36m\u001b[1m└ \u001b[22m\u001b[39m  size_filters = (3, 50, 1, 8)\n",
      "\u001b[36m\u001b[1m┌ \u001b[22m\u001b[39m\u001b[36m\u001b[1mInfo: \u001b[22m\u001b[39mconv2d output reshaped\n",
      "\u001b[36m\u001b[1m└ \u001b[22m\u001b[39m  size_output = (64, 8, 39998, 1)\n",
      "\u001b[36m\u001b[1m┌ \u001b[22m\u001b[39m\u001b[36m\u001b[1mInfo: \u001b[22m\u001b[39mconv2d input\n",
      "\u001b[36m\u001b[1m│ \u001b[22m\u001b[39m  size_x = (64, 1, 40000, 50)\n",
      "\u001b[36m\u001b[1m└ \u001b[22m\u001b[39m  size_filters = (3, 50, 1, 8)\n",
      "\u001b[36m\u001b[1m┌ \u001b[22m\u001b[39m\u001b[36m\u001b[1mInfo: \u001b[22m\u001b[39mconv2d output reshaped\n",
      "\u001b[36m\u001b[1m└ \u001b[22m\u001b[39m  size_output = (64, 8, 39998, 1)\n",
      "\u001b[36m\u001b[1m┌ \u001b[22m\u001b[39m\u001b[36m\u001b[1mInfo: \u001b[22m\u001b[39mconv2d input\n",
      "\u001b[36m\u001b[1m│ \u001b[22m\u001b[39m  size_x = (2, 1, 40000, 50)\n",
      "\u001b[36m\u001b[1m└ \u001b[22m\u001b[39m  size_filters = (3, 50, 1, 8)\n",
      "\u001b[36m\u001b[1m┌ \u001b[22m\u001b[39m\u001b[36m\u001b[1mInfo: \u001b[22m\u001b[39mconv2d output reshaped\n",
      "\u001b[36m\u001b[1m└ \u001b[22m\u001b[39m  size_output = (2, 8, 39998, 1)\n"
     ]
    },
    {
     "name": "stdout",
     "output_type": "stream",
     "text": [
      "Epoch 2: loss = 0.26280590891838074, accuracy = 0.53125\n"
     ]
    },
    {
     "name": "stderr",
     "output_type": "stream",
     "text": [
      "\u001b[36m\u001b[1m┌ \u001b[22m\u001b[39m\u001b[36m\u001b[1mInfo: \u001b[22m\u001b[39mconv2d input\n",
      "\u001b[36m\u001b[1m│ \u001b[22m\u001b[39m  size_x = (64, 1, 40000, 50)\n",
      "\u001b[36m\u001b[1m└ \u001b[22m\u001b[39m  size_filters = (3, 50, 1, 8)\n",
      "\u001b[36m\u001b[1m┌ \u001b[22m\u001b[39m\u001b[36m\u001b[1mInfo: \u001b[22m\u001b[39mconv2d output reshaped\n",
      "\u001b[36m\u001b[1m└ \u001b[22m\u001b[39m  size_output = (64, 8, 39998, 1)\n",
      "\u001b[36m\u001b[1m┌ \u001b[22m\u001b[39m\u001b[36m\u001b[1mInfo: \u001b[22m\u001b[39mconv2d input\n",
      "\u001b[36m\u001b[1m│ \u001b[22m\u001b[39m  size_x = (64, 1, 40000, 50)\n",
      "\u001b[36m\u001b[1m└ \u001b[22m\u001b[39m  size_filters = (3, 50, 1, 8)\n",
      "\u001b[36m\u001b[1m┌ \u001b[22m\u001b[39m\u001b[36m\u001b[1mInfo: \u001b[22m\u001b[39mconv2d output reshaped\n",
      "\u001b[36m\u001b[1m└ \u001b[22m\u001b[39m  size_output = (64, 8, 39998, 1)\n",
      "\u001b[36m\u001b[1m┌ \u001b[22m\u001b[39m\u001b[36m\u001b[1mInfo: \u001b[22m\u001b[39mconv2d input\n",
      "\u001b[36m\u001b[1m│ \u001b[22m\u001b[39m  size_x = (2, 1, 40000, 50)\n",
      "\u001b[36m\u001b[1m└ \u001b[22m\u001b[39m  size_filters = (3, 50, 1, 8)\n",
      "\u001b[36m\u001b[1m┌ \u001b[22m\u001b[39m\u001b[36m\u001b[1mInfo: \u001b[22m\u001b[39mconv2d output reshaped\n",
      "\u001b[36m\u001b[1m└ \u001b[22m\u001b[39m  size_output = (2, 8, 39998, 1)\n"
     ]
    },
    {
     "name": "stdout",
     "output_type": "stream",
     "text": [
      "Epoch 3: loss = 0.2625993291536967, accuracy = 0.53125\n"
     ]
    }
   ],
   "source": [
    "params = parameters(model)\n",
    "adam_state = mycnn.init_adam(params)\n",
    "batch_size = 64\n",
    "epochs = 3\n",
    "lr = 1e-3\n",
    "\n",
    "for epoch in 1:epochs\n",
    "    total_loss = 0.0\n",
    "    total_acc = 0.0\n",
    "    num_batches = 0\n",
    "\n",
    "    for i in 1:batch_size:size(X_train, 1)\n",
    "        idx = i:min(i+batch_size-1, size(X_train, 1))\n",
    "        x_batch = X_train[idx, :]\n",
    "        y_batch = y_train_oh[:, idx]\n",
    "\n",
    "        mycnn.zero_grads!(model)\n",
    "        y_pred = mycnn.forward(model, x_batch)\n",
    "        loss = mycnn.my_loss(y_pred, y_batch)\n",
    "        grads = mycnn.backward(model, x_batch, y_batch, y_pred)\n",
    "        mycnn.adam_step!(params, grads, adam_state, lr)\n",
    "        acc = mycnn.my_accuracy(y_pred, y_batch)\n",
    "\n",
    "        total_loss += loss\n",
    "        total_acc += acc\n",
    "        num_batches += 1\n",
    "    end\n",
    "\n",
    "    println(\"Epoch $epoch: loss = $(total_loss/num_batches), accuracy = $(total_acc/num_batches)\")\n",
    "end"
   ]
  },
  {
   "cell_type": "markdown",
   "id": "cafa05b3-f6b3-485a-acea-9b3589209351",
   "metadata": {},
   "source": []
  },
  {
   "cell_type": "code",
   "execution_count": null,
   "id": "a8187a14-2c8d-40d6-8e6c-4bbe946affd1",
   "metadata": {},
   "outputs": [],
   "source": []
  }
 ],
 "metadata": {
  "kernelspec": {
   "display_name": "Julia 1.11.5",
   "language": "julia",
   "name": "julia-1.11"
  },
  "language_info": {
   "file_extension": ".jl",
   "mimetype": "application/julia",
   "name": "julia",
   "version": "1.11.5"
  }
 },
 "nbformat": 4,
 "nbformat_minor": 5
}
