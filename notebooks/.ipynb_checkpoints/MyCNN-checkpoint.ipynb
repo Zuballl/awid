{
 "cells": [
  {
   "cell_type": "code",
   "execution_count": 5,
   "id": "00e8b902-373b-411e-9b08-f61ce7a870da",
   "metadata": {},
   "outputs": [
    {
     "data": {
      "text/plain": [
       "\"/Users/janzubalewicz/Documents/My/WWA/mgr/nauka/awid/MyProject\""
      ]
     },
     "execution_count": 5,
     "metadata": {},
     "output_type": "execute_result"
    }
   ],
   "source": [
    "pwd()\n"
   ]
  },
  {
   "cell_type": "code",
   "execution_count": null,
   "id": "b699f5a1-2c3c-4cae-b2a7-001d16213586",
   "metadata": {},
   "outputs": [],
   "source": [
    "exit()\n"
   ]
  },
  {
   "cell_type": "code",
   "execution_count": 1,
   "id": "f6e610b1-7b36-47cf-a8b6-2b80859b1186",
   "metadata": {},
   "outputs": [
    {
     "name": "stderr",
     "output_type": "stream",
     "text": [
      "\u001b[32m\u001b[1m  Activating\u001b[22m\u001b[39m project at `~/Documents/My/WWA/mgr/nauka/awid/MyProject`\n"
     ]
    }
   ],
   "source": [
    "cd(\"/Users/janzubalewicz/Documents/My/WWA/mgr/nauka/awid/MyProject\")\n",
    "using Pkg\n",
    "Pkg.activate(\".\")"
   ]
  },
  {
   "cell_type": "code",
   "execution_count": 2,
   "id": "e75978cc-1b63-4d92-91fc-7f1ec97e0a60",
   "metadata": {},
   "outputs": [
    {
     "name": "stdout",
     "output_type": "stream",
     "text": [
      "X_train shape: (130, 40000)\n",
      "y_train shape: (1, 40000)\n",
      "X_test shape: (130, 10000)\n",
      "y_test shape: (1, 10000)\n",
      "Embedding dim: (50, 12849)\n",
      "Vocab size: 12849\n"
     ]
    }
   ],
   "source": [
    "using MyProject\n",
    "using MyProject.MyCNN\n",
    "mycnn = MyProject.MyCNN\n",
    "using MyProject.MyAD\n",
    "myad = MyProject.MyAD\n",
    "using JLD2\n",
    "using Random\n",
    "\n",
    "\n",
    "X_train = load(\"data/imdb_dataset_prepared.jld2\", \"X_train\")\n",
    "y_train = load(\"data/imdb_dataset_prepared.jld2\", \"y_train\")\n",
    "X_test = load(\"data/imdb_dataset_prepared.jld2\", \"X_test\")\n",
    "y_test = load(\"data/imdb_dataset_prepared.jld2\", \"y_test\")\n",
    "embeddings = load(\"data/imdb_dataset_prepared.jld2\", \"embeddings\")\n",
    "vocab = load(\"data/imdb_dataset_prepared.jld2\", \"vocab\")\n",
    "\n",
    "embedding_dim, vocab_size = size(embeddings)\n",
    "\n",
    "println(\"X_train shape: \", size(X_train))\n",
    "println(\"y_train shape: \", size(y_train))\n",
    "println(\"X_test shape: \", size(X_test))\n",
    "println(\"y_test shape: \", size(y_test))\n",
    "println(\"Embedding dim: \", size(embeddings))\n",
    "println(\"Vocab size: \", length(vocab))"
   ]
  },
  {
   "cell_type": "code",
   "execution_count": 3,
   "id": "0ed23e02-591e-4d94-93c7-7bd1f4cdc381",
   "metadata": {},
   "outputs": [
    {
     "data": {
      "text/plain": [
       "2×10000 Matrix{Float32}:\n",
       " 1.0  0.0  0.0  1.0  0.0  0.0  1.0  1.0  …  0.0  0.0  1.0  1.0  1.0  1.0  1.0\n",
       " 0.0  1.0  1.0  0.0  1.0  1.0  0.0  0.0     1.0  1.0  0.0  0.0  0.0  0.0  0.0"
      ]
     },
     "execution_count": 3,
     "metadata": {},
     "output_type": "execute_result"
    }
   ],
   "source": [
    "function to_onehot(y, n_classes)\n",
    "    y_oh = zeros(Float32, n_classes, length(y))\n",
    "    for (i, label) in enumerate(y)\n",
    "        y_oh[label, i] = 1.0\n",
    "    end\n",
    "    return y_oh\n",
    "end\n",
    "\n",
    "n_classes = 2\n",
    "\n",
    "y_train_int = Int.(vec(y_train)) .+ 1\n",
    "y_test_int = Int.(vec(y_test)) .+ 1\n",
    "\n",
    "y_train_oh = to_onehot(y_train_int, n_classes)\n",
    "y_test_oh = to_onehot(y_test_int, n_classes)"
   ]
  },
  {
   "cell_type": "code",
   "execution_count": 4,
   "id": "60468785-598d-4b48-b1d2-21688b193163",
   "metadata": {},
   "outputs": [
    {
     "data": {
      "text/plain": [
       "CNN(Embedding(Float32[0.90951 -0.58014 … 0.014323 0.0; -0.20702 -1.1316 … -0.74624 0.0; … ; -0.60396 0.1722 … -0.079873 0.0; -0.31136 1.2622 … -0.89164 0.0]), Conv2D[Conv2D(Float32[-0.069763035 -0.11875452 … 0.0075276857 -0.022789568; 0.020587647 -0.018373081 … -0.08240947 -0.108199984; -0.023189113 -0.022766855 … -0.018824847 0.11212204;;;; -0.03010505 0.07198766 … 0.117009595 -0.08934118; 0.061294537 -0.03834361 … 0.10807731 -0.11694711; -0.12001281 0.0713393 … 0.18053411 -0.106017575;;;; 0.030720003 -0.21114609 … 0.121126905 0.043546584; 0.11060475 -0.028573152 … 0.007798028 0.13432328; -0.06309629 0.06770112 … -0.031127922 -0.17543189;;;; -0.19470824 0.11947361 … 0.16786629 0.07114838; -0.033851255 0.040389404 … -0.11347624 -0.0066874637; -0.14864878 0.021338943 … -0.09984602 0.124396354;;;; 0.13163537 -0.09843999 … -0.0006272155 -0.003508284; -0.25653774 -0.010792146 … 0.012612329 -0.06532505; -0.117154986 0.031184858 … -0.020050367 0.051180687;;;; 0.07142787 -0.054735765 … 0.08423409 0.08071859; 0.0761958 0.074074954 … -0.084239766 -0.06419616; -0.03568414 -0.12705304 … 0.14725588 -0.07965375;;;; -0.117427476 0.21960583 … -0.033326358 0.059015147; 0.022997167 0.07194105 … -0.306132 -0.04527186; 0.07924445 0.035151895 … 0.13033076 -0.14159563;;;; -0.010403375 0.01669471 … -0.20030923 -0.08939042; 0.24584796 0.023033509 … -0.043194555 0.0076457956; -0.06693011 0.07393346 … -0.113433 -0.08147867], Float32[0.0, 0.0, 0.0, 0.0, 0.0, 0.0, 0.0, 0.0], Float32[0.0 0.0 … 0.0 0.0; 0.0 0.0 … 0.0 0.0; 0.0 0.0 … 0.0 0.0;;;; 0.0 0.0 … 0.0 0.0; 0.0 0.0 … 0.0 0.0; 0.0 0.0 … 0.0 0.0;;;; 0.0 0.0 … 0.0 0.0; 0.0 0.0 … 0.0 0.0; 0.0 0.0 … 0.0 0.0;;;; 0.0 0.0 … 0.0 0.0; 0.0 0.0 … 0.0 0.0; 0.0 0.0 … 0.0 0.0;;;; 0.0 0.0 … 0.0 0.0; 0.0 0.0 … 0.0 0.0; 0.0 0.0 … 0.0 0.0;;;; 0.0 0.0 … 0.0 0.0; 0.0 0.0 … 0.0 0.0; 0.0 0.0 … 0.0 0.0;;;; 0.0 0.0 … 0.0 0.0; 0.0 0.0 … 0.0 0.0; 0.0 0.0 … 0.0 0.0;;;; 0.0 0.0 … 0.0 0.0; 0.0 0.0 … 0.0 0.0; 0.0 0.0 … 0.0 0.0], Float32[0.0, 0.0, 0.0, 0.0, 0.0, 0.0, 0.0, 0.0], (1, 1), (0, 0))], Dense(Float32[0.00965274 -0.025012977 … -0.010425963 -0.02623424; -0.026017895 0.013704807 … -0.005747912 -0.031713203], Float32[0.0, 0.0], Float32[0.0 0.0 … 0.0 0.0; 0.0 0.0 … 0.0 0.0], Float32[0.0, 0.0], #undef), 500)"
      ]
     },
     "execution_count": 4,
     "metadata": {},
     "output_type": "execute_result"
    }
   ],
   "source": [
    "embedding_layer = Embedding(embeddings)\n",
    "n_filters = 8\n",
    "filter_sizes = [3]\n",
    "model = CNN(\n",
    "    embedding=embedding_layer,\n",
    "    n_filters=n_filters,\n",
    "    filter_sizes=filter_sizes,\n",
    "    n_classes=n_classes\n",
    ")"
   ]
  },
  {
   "cell_type": "code",
   "execution_count": 5,
   "id": "b898f381-3959-4d2f-bf30-981e6c17d6ae",
   "metadata": {},
   "outputs": [
    {
     "ename": "LoadError",
     "evalue": "UndefVarError: `forward` not defined in `Main`\nHint: It looks like two or more modules export different bindings with this name, resulting in ambiguity. Try explicitly importing it from a particular module, or qualifying the name with the module it should come from.",
     "output_type": "error",
     "traceback": [
      "UndefVarError: `forward` not defined in `Main`\nHint: It looks like two or more modules export different bindings with this name, resulting in ambiguity. Try explicitly importing it from a particular module, or qualifying the name with the module it should come from.",
      "",
      "Stacktrace:",
      " [1] top-level scope",
      "   @ ./In[5]:18"
     ]
    }
   ],
   "source": [
    "params = parameters(model)\n",
    "adam_state = mycnn.init_adam(params)\n",
    "batch_size = 64\n",
    "epochs = 3\n",
    "lr = 1e-3\n",
    "\n",
    "for epoch in 1:epochs\n",
    "    total_loss = 0.0\n",
    "    total_acc = 0.0\n",
    "    num_batches = 0\n",
    "\n",
    "    for i in 1:batch_size:size(X_train, 1)\n",
    "        idx = i:min(i+batch_size-1, size(X_train, 1))\n",
    "        x_batch = X_train[idx, :]\n",
    "        y_batch = y_train_oh[:, idx]\n",
    "\n",
    "        mycnn.zero_grads!(model)\n",
    "        y_pred = mycnn.forward(model, x_batch)\n",
    "        loss = mycnn.my_loss(y_pred, y_batch)\n",
    "        grads = mycnn.backward(model, x_batch, y_batch, y_pred)\n",
    "        mycnn.adam_step!(params, grads, adam_state, lr)\n",
    "        acc = mycnn.my_accuracy(y_pred, y_batch)\n",
    "\n",
    "        total_loss += loss\n",
    "        total_acc += acc\n",
    "        num_batches += 1\n",
    "    end\n",
    "\n",
    "    println(\"Epoch $epoch: loss = $(total_loss/num_batches), accuracy = $(total_acc/num_batches)\")\n",
    "end"
   ]
  },
  {
   "cell_type": "code",
   "execution_count": 5,
   "id": "72ccb9bf-3461-468a-9eaf-eeefc9d23e53",
   "metadata": {},
   "outputs": [
    {
     "ename": "LoadError",
     "evalue": "UndefVarError: `Training` not defined in `Main`\nSuggestion: check for spelling errors or missing imports.",
     "output_type": "error",
     "traceback": [
      "UndefVarError: `Training` not defined in `Main`\nSuggestion: check for spelling errors or missing imports.",
      "",
      "Stacktrace:",
      " [1] top-level scope",
      "   @ In[5]:1"
     ]
    }
   ],
   "source": [
    "optimizer = Training.Optimizers.Adam(model, Float32(0.001))\n",
    "\n",
    "epochs = 5\n",
    "# Training loop\n",
    "for epoch in 1:epochs\n",
    "    for (batch_x, batch_y) in train_loader\n",
    "        # Forward pass\n",
    "        pred = forward(model, batch_x)\n",
    "        \n",
    "        # Compute loss\n",
    "        loss = cross_entropy_loss(pred, batch_y)\n",
    "        \n",
    "        # Backward pass\n",
    "        backward(model)\n",
    "        \n",
    "        # Update parameters\n",
    "        train_step!(model, learning_rate)\n",
    "    end\n",
    "end"
   ]
  },
  {
   "cell_type": "markdown",
   "id": "cafa05b3-f6b3-485a-acea-9b3589209351",
   "metadata": {},
   "source": []
  },
  {
   "cell_type": "code",
   "execution_count": null,
   "id": "a8187a14-2c8d-40d6-8e6c-4bbe946affd1",
   "metadata": {},
   "outputs": [],
   "source": []
  }
 ],
 "metadata": {
  "kernelspec": {
   "display_name": "Julia 1.11.5",
   "language": "julia",
   "name": "julia-1.11"
  },
  "language_info": {
   "file_extension": ".jl",
   "mimetype": "application/julia",
   "name": "julia",
   "version": "1.11.5"
  }
 },
 "nbformat": 4,
 "nbformat_minor": 5
}
